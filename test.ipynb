{
 "cells": [
  {
   "cell_type": "markdown",
   "metadata": {},
   "source": [
    "# New Topic Browser Project\n",
    "Create a new Jupyter project for dfr browser generation.\n",
    "_This notebook is read-only. It may be customized and run, but settings will only be saved in the newly generated projects._"
   ]
  },
  {
   "cell_type": "markdown",
   "metadata": {},
   "source": [
    "-  v0.1 2016-10-07\n",
    "-  v0.2 2016-10-07 adapted to Jupyter notebook\n",
    "-  v0.3 2016-10-13 Jupyter correctly working with mallet\n",
    "-  v0.4 2016-10-18 Link generation and cleanup, documentation, read only.\n",
    "-  v0.5 2016-10-19 Incorporate scrubbing script, text_files_clean folder.\n",
    "-  v0.6 2016-10-19 split off most of project generation into project sub-notebooks\n",
    "-  v0.7 2016-10-28 add timedate stamps to project names for rapid exploration\n",
    "-  v0.8 2017-11-02 change to Python3\n",
    "-  v0.9 2017-11-03 strip template checkpoints and cache on copy (switch to shutil.copytree)"
   ]
  },
  {
   "cell_type": "code",
   "execution_count": null,
   "metadata": {},
   "outputs": [],
   "source": [
    "## INFO\n",
    "\n",
    "__author__    = 'Jeremy Douglass'\n",
    "__copyright__ = 'copyright 2017, The WE1S Project'\n",
    "__license__   = 'GPL'\n",
    "__version__   = '0.6'\n",
    "__email__     = 'jeremydouglass@gmail.com'"
   ]
  },
  {
   "cell_type": "code",
   "execution_count": null,
   "metadata": {},
   "outputs": [],
   "source": [
    "## IMPORT\n",
    "\n",
    "# from distutils.dir_util import copy_tree\n",
    "from shutil import copytree, ignore_patterns\n",
    "import os\n",
    "import datetime"
   ]
  },
  {
   "cell_type": "code",
   "execution_count": null,
   "metadata": {},
   "outputs": [],
   "source": [
    "## AUTO-GENERATED VARIABLES\n",
    "\n",
    "MANIFEST\n",
    "\n",
    "USER_QUERY\n",
    "\n",
    "project_name = manifest['title']"
   ]
  },
  {
   "cell_type": "markdown",
   "metadata": {},
   "source": [
    "## VARIABLES -- FILL OUT"
   ]
  },
  {
   "cell_type": "code",
   "execution_count": null,
   "metadata": {},
   "outputs": [],
   "source": [
    "## VARIABLES\n",
    "\n",
    "## Customize these to specific project name and data\n",
    "\n",
    "# project_name        = manifest['title']\n",
    "\n",
    "template_directory  = 'templates/topic_browser_template'\n",
    "dt = datetime.datetime.today().strftime('%Y%m%d_%H%M_')\n",
    "project_directory   = 'projects/' + dt + project_name\n",
    "print(project_directory)\n",
    "\n",
    "## DOCKER UPDATE NOTES\n",
    "## updated server from UTC to PST at command line with: (chose America / Los Angeles):\n",
    "#  dpkg-reconfigure tzdata"
   ]
  },
  {
   "cell_type": "code",
   "execution_count": null,
   "metadata": {},
   "outputs": [],
   "source": [
    "## COPY TEMPLATE TO NEW PROJECT\n",
    "\n",
    "## Initialize new project folder with default template contents\n",
    "## -- this includes empty folders, stopwords, scripts\n",
    "## Clean copy -- ignore any checkpoints or pycache in the template folder\n",
    "\n",
    "copytree(template_directory, project_directory, ignore=ignore_patterns('.ipynb_checkpoints', '__pycache__'))"
   ]
  },
  {
   "cell_type": "code",
   "execution_count": null,
   "metadata": {},
   "outputs": [],
   "source": [
    "!ls -la {project_directory}"
   ]
  },
  {
   "cell_type": "markdown",
   "metadata": {},
   "source": [
    "## NEXT"
   ]
  },
  {
   "cell_type": "code",
   "execution_count": null,
   "metadata": {},
   "outputs": [],
   "source": [
    "## NEXT\n",
    "## Generate a link to the next notebook\n",
    "\n",
    "from IPython.display import display, HTML\n",
    "browser_link_html = HTML('<p>A new <strong>'+ template_directory +'</strong> has been set up:<br><strong>'+ project_directory + '</strong></p><h2><a href=\"' + project_directory + '/1_import_data.ipynb\" target=\"top\">Next: Import Data.</h2>')\n",
    "display(browser_link_html)"
   ]
  },
  {
   "cell_type": "markdown",
   "metadata": {},
   "source": [
    "----------"
   ]
  }
 ],
 "metadata": {},
 "nbformat": 4,
 "nbformat_minor": 2
}
