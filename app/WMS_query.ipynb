{
 "cells": [
  {
   "cell_type": "code",
   "execution_count": null,
   "metadata": {},
   "outputs": [],
   "source": [
    "import pymongo\n",
    "from pymongo import MongoClient\n",
    "\n",
    "# Set up the MongoDB client, configure the databases, and assign variables to the \"collections\" \n",
    "client = MongoClient('mongodb://mongodb:27017')\n",
    "db = client.we1s\n",
    "corpus_db = db.Corpus\n",
    "\n",
    "# The line below is replaced by an actual query string by the WMS\n",
    "result = list(corpus_db.find({'$and': [{'path': ',Corpus,'}, {'name': 'gemma'}]}, limit=0, projection=['date', 'description', 'name', 'path', 'title']).sort([('name', pymongo.ASCENDING)]))\n",
    "\n",
    "# Execute the database query\n",
    "result = corpus_db.find(query)\n",
    "\n",
    "# Display the title and content from each manifest returned by the query\n",
    "for item in result:\n",
    "    print(item['title'] + '\\n')\n",
    "    print(item['content'] + '\\n')\n",
    "    print('=========================================================\\n')"
   ]
  }
 ],
 "metadata": {
  "kernelspec": {
   "display_name": "Python 3",
   "language": "python",
   "name": "python3"
  },
  "language_info": {
   "codemirror_mode": {
    "name": "ipython",
    "version": 3
   },
   "file_extension": ".py",
   "mimetype": "text/x-python",
   "name": "python",
   "nbconvert_exporter": "python",
   "pygments_lexer": "ipython3",
   "version": "3.6.1"
  }
 },
 "nbformat": 4,
 "nbformat_minor": 2
}
